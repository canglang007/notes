{
 "cells": [
  {
   "cell_type": "markdown",
   "metadata": {},
   "source": [
    "sales_by_category.index.levels[0] ，sales_by_category.index 是一个多级索引对象，其中第一个级别的唯一值可以通过 levels[0] 来访问"
   ]
  },
  {
   "cell_type": "code",
   "execution_count": null,
   "metadata": {},
   "outputs": [],
   "source": []
  }
 ],
 "metadata": {
  "kernelspec": {
   "display_name": "base",
   "language": "python",
   "name": "python3"
  },
  "language_info": {
   "name": "python",
   "version": "3.7.0"
  },
  "orig_nbformat": 4
 },
 "nbformat": 4,
 "nbformat_minor": 2
}
