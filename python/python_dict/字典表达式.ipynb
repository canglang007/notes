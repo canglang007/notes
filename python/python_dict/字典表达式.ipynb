{
 "cells": [
  {
   "cell_type": "code",
   "execution_count": 3,
   "metadata": {},
   "outputs": [
    {
     "name": "stdout",
     "output_type": "stream",
     "text": [
      "{'one': '0', 'two_up': '1', 'two_up_inverted': '2', 'three': '3', 'three2': '4', 'four': '5', 'fist': '6', 'palm': '7', 'ok': '8', 'peace': '9', 'peace_inverted': '10', 'like': '11', 'dislike': '12', 'stop': '13', 'stop_inverted': '14', 'call': '15', 'mute': '16', 'rock': '17', 'no_gesture': '18'}\n"
     ]
    }
   ],
   "source": [
    "dict_old = { 'one': 0, 'two_up': 1, 'two_up_inverted': 2, 'three': 3, 'three2': 4,\n",
    "         'four': 5, 'fist': 6, 'palm': 7, 'ok': 8, 'peace': 9,\n",
    "         'peace_inverted': 10, 'like': 11, 'dislike': 12, 'stop': 13, 'stop_inverted': 14,\n",
    "         'call': 15, 'mute': 16, 'rock': 17, 'no_gesture': 18 }\n",
    "string_dict = {key: str(value) for key, value in dict_old.items()}\n",
    "\n",
    "# 打印转换后的字典\n",
    "print(string_dict)"
   ]
  },
  {
   "cell_type": "markdown",
   "metadata": {},
   "source": [
    "**键和值互换的方式**"
   ]
  },
  {
   "cell_type": "code",
   "execution_count": 5,
   "metadata": {},
   "outputs": [],
   "source": [
    "flipped_dict = {value: key for key, value in string_dict.items()}"
   ]
  },
  {
   "cell_type": "code",
   "execution_count": 6,
   "metadata": {},
   "outputs": [
    {
     "name": "stdout",
     "output_type": "stream",
     "text": [
      "{'0': 'one', '1': 'two_up', '2': 'two_up_inverted', '3': 'three', '4': 'three2', '5': 'four', '6': 'fist', '7': 'palm', '8': 'ok', '9': 'peace', '10': 'peace_inverted', '11': 'like', '12': 'dislike', '13': 'stop', '14': 'stop_inverted', '15': 'call', '16': 'mute', '17': 'rock', '18': 'no_gesture'}\n"
     ]
    }
   ],
   "source": [
    "print(flipped_dict)"
   ]
  },
  {
   "cell_type": "code",
   "execution_count": 7,
   "metadata": {},
   "outputs": [
    {
     "name": "stdout",
     "output_type": "stream",
     "text": [
      "{'0': 'one', '1': 'two_up', '2': 'two_up_inverted', '3': 'three', '4': 'three2', '5': 'four', '6': 'fist', '7': 'palm', '8': 'ok', '9': 'peace', '10': 'peace_inverted', '11': 'like', '12': 'dislike', '13': 'stop', '14': 'stop_inverted', '15': 'call', '16': 'mute', '17': 'rock', '18': 'no_gesture'}\n"
     ]
    }
   ],
   "source": [
    "# 将单引号替换为双引号\n",
    "modified_dict = {key.replace(\"'\", '\"'): value.replace(\"'\", '\"') for key, value in flipped_dict.items()}\n",
    "\n",
    "# 打印替换后的字典\n",
    "print(modified_dict)"
   ]
  },
  {
   "cell_type": "code",
   "execution_count": 4,
   "metadata": {},
   "outputs": [
    {
     "ename": "TypeError",
     "evalue": "'dict' object is not callable",
     "output_type": "error",
     "traceback": [
      "\u001b[1;31m---------------------------------------------------------------------------\u001b[0m",
      "\u001b[1;31mTypeError\u001b[0m                                 Traceback (most recent call last)",
      "\u001b[1;32mUntitled-1.ipynb 单元格 3\u001b[0m line \u001b[0;36m<cell line: 1>\u001b[1;34m()\u001b[0m\n\u001b[1;32m----> <a href='vscode-notebook-cell:Untitled-1.ipynb?jupyter-notebook#W1sdW50aXRsZWQ%3D?line=0'>1</a>\u001b[0m flipped_dict \u001b[39m=\u001b[39m \u001b[39mdict\u001b[39;49m(\u001b[39mzip\u001b[39;49m(string_dict\u001b[39m.\u001b[39;49mvalues(), string_dict\u001b[39m.\u001b[39;49mkeys()))\n",
      "\u001b[1;31mTypeError\u001b[0m: 'dict' object is not callable"
     ]
    }
   ],
   "source": [
    "# flipped_dict = dict(zip(string_dict.values(), string_dict.keys()))"
   ]
  }
 ],
 "metadata": {
  "kernelspec": {
   "display_name": "Python 3",
   "language": "python",
   "name": "python3"
  },
  "language_info": {
   "codemirror_mode": {
    "name": "ipython",
    "version": 3
   },
   "file_extension": ".py",
   "mimetype": "text/x-python",
   "name": "python",
   "nbconvert_exporter": "python",
   "pygments_lexer": "ipython3",
   "version": "3.10.5"
  }
 },
 "nbformat": 4,
 "nbformat_minor": 2
}
