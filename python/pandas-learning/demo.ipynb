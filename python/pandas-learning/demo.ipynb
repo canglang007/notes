{
 "cells": [
  {
   "cell_type": "code",
   "execution_count": null,
   "metadata": {},
   "outputs": [],
   "source": [
    "import pandas as pd\n",
    "df = pd"
   ]
  },
  {
   "cell_type": "markdown",
   "metadata": {},
   "source": [
    "## 使用pivot_table进行数据透视"
   ]
  },
  {
   "cell_type": "markdown",
   "metadata": {},
   "source": [
    "index是行索引，也就是每一行的行名字，"
   ]
  },
  {
   "cell_type": "code",
   "execution_count": null,
   "metadata": {},
   "outputs": [],
   "source": [
    "import pandas as pd\n",
    "\n",
    "# 读取excel文件\n",
    "df = pd.read_excel('销售额.xlsx')\n",
    "\n",
    "# 使用pivot_table进行数据透视，将日期作为index，蔬菜名称作为列，销量为值。若有重复数据，默认进行求和。\n",
    "df_pivot = df.pivot_table(index='日期', columns='名称', values='销量', aggfunc='sum').reset_index()\n",
    "\n",
    "df_pivot = df_pivot.sort_values(by='日期')\n",
    "# 将df_pivot的值按照日期排序，并且填充为0\n",
    "df_pivot = df_pivot.fillna(0)\n",
    "\n",
    "# 保存到新的excel文件\n",
    "df_pivot.to_excel('data.xlsx', index=False)"
   ]
  }
 ],
 "metadata": {
  "kernelspec": {
   "display_name": "pytorch",
   "language": "python",
   "name": "python3"
  },
  "language_info": {
   "name": "python",
   "version": "3.8.17"
  },
  "orig_nbformat": 4
 },
 "nbformat": 4,
 "nbformat_minor": 2
}
