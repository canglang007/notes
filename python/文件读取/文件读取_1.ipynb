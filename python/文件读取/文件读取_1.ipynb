{
 "cells": [
  {
   "cell_type": "code",
   "execution_count": 11,
   "metadata": {},
   "outputs": [
    {
     "name": "stdout",
     "output_type": "stream",
     "text": [
      "13\n"
     ]
    }
   ],
   "source": [
    "import numpy as np\n",
    "filepath = 'D:/SNE-roadseg/SNE-RoadSeg/datasets/kitti/training/calib/um_000000.txt' \n",
    "filepath=filepath.replace('\\\\','/')\n",
    "# 每次调用readline()方法后，指针就会被移动到下一行开头\n",
    "data ={}\n",
    "with open(filepath, 'r') as f:\n",
    "    first_line =f.readline()\n",
    "    # first_line.split()的返回类型就是[]\n",
    "    print(len(first_line.split()))\n",
    "\n",
    "\n"
   ]
  }
 ],
 "metadata": {
  "kernelspec": {
   "display_name": "Python 3",
   "language": "python",
   "name": "python3"
  },
  "language_info": {
   "codemirror_mode": {
    "name": "ipython",
    "version": 3
   },
   "file_extension": ".py",
   "mimetype": "text/x-python",
   "name": "python",
   "nbconvert_exporter": "python",
   "pygments_lexer": "ipython3",
   "version": "3.10.5"
  }
 },
 "nbformat": 4,
 "nbformat_minor": 2
}
